{
 "cells": [
  {
   "cell_type": "code",
   "execution_count": 1,
   "id": "8a3a2d14",
   "metadata": {},
   "outputs": [
    {
     "name": "stderr",
     "output_type": "stream",
     "text": [
      "/home/harkhymadhe/mambaforge/lib/python3.10/site-packages/tqdm/auto.py:21: TqdmWarning: IProgress not found. Please update jupyter and ipywidgets. See https://ipywidgets.readthedocs.io/en/stable/user_install.html\n",
      "  from .autonotebook import tqdm as notebook_tqdm\n"
     ]
    }
   ],
   "source": [
    "import pandas as pd\n",
    "import numpy as np\n",
    "\n",
    "import matplotlib.pyplot as plt\n",
    "from sklearn.metrics import RocCurveDisplay\n",
    "\n",
    "import optuna"
   ]
  },
  {
   "cell_type": "code",
   "execution_count": 2,
   "id": "f0de0be8",
   "metadata": {},
   "outputs": [],
   "source": [
    "# Import data\n",
    "df = pd.read_csv(\"game_data_levels.csv\")"
   ]
  },
  {
   "cell_type": "code",
   "execution_count": 3,
   "id": "435bb926",
   "metadata": {},
   "outputs": [
    {
     "data": {
      "text/html": [
       "<div>\n",
       "<style scoped>\n",
       "    .dataframe tbody tr th:only-of-type {\n",
       "        vertical-align: middle;\n",
       "    }\n",
       "\n",
       "    .dataframe tbody tr th {\n",
       "        vertical-align: top;\n",
       "    }\n",
       "\n",
       "    .dataframe thead th {\n",
       "        text-align: right;\n",
       "    }\n",
       "</style>\n",
       "<table border=\"1\" class=\"dataframe\">\n",
       "  <thead>\n",
       "    <tr style=\"text-align: right;\">\n",
       "      <th></th>\n",
       "      <th>AddMoves</th>\n",
       "      <th>BuyMoreMoves</th>\n",
       "      <th>Churn</th>\n",
       "      <th>DoubleMana</th>\n",
       "      <th>EndType</th>\n",
       "      <th>ExtraMoves</th>\n",
       "      <th>Level</th>\n",
       "      <th>LevelType</th>\n",
       "      <th>LevelVersion</th>\n",
       "      <th>MaxLevel</th>\n",
       "      <th>...</th>\n",
       "      <th>Scores</th>\n",
       "      <th>ServerTime</th>\n",
       "      <th>StartMoves</th>\n",
       "      <th>SubLevel</th>\n",
       "      <th>UsedChangeCar</th>\n",
       "      <th>UsedCoins</th>\n",
       "      <th>UsedMoves</th>\n",
       "      <th>UserID</th>\n",
       "      <th>Variant</th>\n",
       "      <th>WatchedVideo</th>\n",
       "    </tr>\n",
       "  </thead>\n",
       "  <tbody>\n",
       "    <tr>\n",
       "      <th>0</th>\n",
       "      <td>0</td>\n",
       "      <td>0</td>\n",
       "      <td>0</td>\n",
       "      <td>0</td>\n",
       "      <td>Lose</td>\n",
       "      <td>0</td>\n",
       "      <td>80</td>\n",
       "      <td>Saga</td>\n",
       "      <td>6</td>\n",
       "      <td>80</td>\n",
       "      <td>...</td>\n",
       "      <td>2300</td>\n",
       "      <td>2019-01-01 00:00:08</td>\n",
       "      <td>22</td>\n",
       "      <td>50</td>\n",
       "      <td>0</td>\n",
       "      <td>0</td>\n",
       "      <td>22</td>\n",
       "      <td>0UAqFzWsDK4FrUMp48Y3</td>\n",
       "      <td>0</td>\n",
       "      <td>0</td>\n",
       "    </tr>\n",
       "    <tr>\n",
       "      <th>1</th>\n",
       "      <td>0</td>\n",
       "      <td>0</td>\n",
       "      <td>0</td>\n",
       "      <td>0</td>\n",
       "      <td>Lose</td>\n",
       "      <td>0</td>\n",
       "      <td>275</td>\n",
       "      <td>Saga</td>\n",
       "      <td>8</td>\n",
       "      <td>275</td>\n",
       "      <td>...</td>\n",
       "      <td>2865</td>\n",
       "      <td>2019-01-01 00:00:14</td>\n",
       "      <td>13</td>\n",
       "      <td>50</td>\n",
       "      <td>0</td>\n",
       "      <td>0</td>\n",
       "      <td>13</td>\n",
       "      <td>tT3QDgAL47D1qXIaSyZP</td>\n",
       "      <td>0</td>\n",
       "      <td>0</td>\n",
       "    </tr>\n",
       "    <tr>\n",
       "      <th>2</th>\n",
       "      <td>0</td>\n",
       "      <td>1</td>\n",
       "      <td>0</td>\n",
       "      <td>0</td>\n",
       "      <td>Win</td>\n",
       "      <td>5</td>\n",
       "      <td>4226</td>\n",
       "      <td>Saga</td>\n",
       "      <td>0</td>\n",
       "      <td>4226</td>\n",
       "      <td>...</td>\n",
       "      <td>4560</td>\n",
       "      <td>2019-01-01 00:00:16</td>\n",
       "      <td>21</td>\n",
       "      <td>0</td>\n",
       "      <td>0</td>\n",
       "      <td>27</td>\n",
       "      <td>26</td>\n",
       "      <td>aE1pu1lJo7XBetF5gIRH</td>\n",
       "      <td>0</td>\n",
       "      <td>0</td>\n",
       "    </tr>\n",
       "    <tr>\n",
       "      <th>3</th>\n",
       "      <td>0</td>\n",
       "      <td>0</td>\n",
       "      <td>0</td>\n",
       "      <td>0</td>\n",
       "      <td>Lose</td>\n",
       "      <td>0</td>\n",
       "      <td>131</td>\n",
       "      <td>Saga</td>\n",
       "      <td>0</td>\n",
       "      <td>131</td>\n",
       "      <td>...</td>\n",
       "      <td>2970</td>\n",
       "      <td>2019-01-01 00:00:27</td>\n",
       "      <td>13</td>\n",
       "      <td>50</td>\n",
       "      <td>0</td>\n",
       "      <td>0</td>\n",
       "      <td>13</td>\n",
       "      <td>YH7LKBKxJsllLODfU250</td>\n",
       "      <td>0</td>\n",
       "      <td>0</td>\n",
       "    </tr>\n",
       "    <tr>\n",
       "      <th>4</th>\n",
       "      <td>0</td>\n",
       "      <td>0</td>\n",
       "      <td>0</td>\n",
       "      <td>0</td>\n",
       "      <td>Lose</td>\n",
       "      <td>0</td>\n",
       "      <td>131</td>\n",
       "      <td>Saga</td>\n",
       "      <td>0</td>\n",
       "      <td>131</td>\n",
       "      <td>...</td>\n",
       "      <td>2180</td>\n",
       "      <td>2019-01-01 00:00:29</td>\n",
       "      <td>17</td>\n",
       "      <td>50</td>\n",
       "      <td>0</td>\n",
       "      <td>0</td>\n",
       "      <td>17</td>\n",
       "      <td>35HyRrY03K6JBO94XfLE</td>\n",
       "      <td>0</td>\n",
       "      <td>0</td>\n",
       "    </tr>\n",
       "  </tbody>\n",
       "</table>\n",
       "<p>5 rows × 24 columns</p>\n",
       "</div>"
      ],
      "text/plain": [
       "   AddMoves  BuyMoreMoves  Churn  DoubleMana EndType  ExtraMoves  Level  \\\n",
       "0         0             0      0           0    Lose           0     80   \n",
       "1         0             0      0           0    Lose           0    275   \n",
       "2         0             1      0           0     Win           5   4226   \n",
       "3         0             0      0           0    Lose           0    131   \n",
       "4         0             0      0           0    Lose           0    131   \n",
       "\n",
       "  LevelType  LevelVersion  MaxLevel  ...  Scores           ServerTime  \\\n",
       "0      Saga             6        80  ...    2300  2019-01-01 00:00:08   \n",
       "1      Saga             8       275  ...    2865  2019-01-01 00:00:14   \n",
       "2      Saga             0      4226  ...    4560  2019-01-01 00:00:16   \n",
       "3      Saga             0       131  ...    2970  2019-01-01 00:00:27   \n",
       "4      Saga             0       131  ...    2180  2019-01-01 00:00:29   \n",
       "\n",
       "   StartMoves  SubLevel  UsedChangeCar UsedCoins  UsedMoves  \\\n",
       "0          22        50              0         0         22   \n",
       "1          13        50              0         0         13   \n",
       "2          21         0              0        27         26   \n",
       "3          13        50              0         0         13   \n",
       "4          17        50              0         0         17   \n",
       "\n",
       "                 UserID  Variant  WatchedVideo  \n",
       "0  0UAqFzWsDK4FrUMp48Y3        0             0  \n",
       "1  tT3QDgAL47D1qXIaSyZP        0             0  \n",
       "2  aE1pu1lJo7XBetF5gIRH        0             0  \n",
       "3  YH7LKBKxJsllLODfU250        0             0  \n",
       "4  35HyRrY03K6JBO94XfLE        0             0  \n",
       "\n",
       "[5 rows x 24 columns]"
      ]
     },
     "execution_count": 3,
     "metadata": {},
     "output_type": "execute_result"
    }
   ],
   "source": [
    "# Peek at the data\n",
    "df.head()"
   ]
  },
  {
   "cell_type": "code",
   "execution_count": 4,
   "id": "4d794f66",
   "metadata": {},
   "outputs": [
    {
     "data": {
      "text/plain": [
       "Churn\n",
       "0    784503\n",
       "1      5376\n",
       "Name: count, dtype: int64"
      ]
     },
     "execution_count": 4,
     "metadata": {},
     "output_type": "execute_result"
    }
   ],
   "source": [
    "# Label distribution\n",
    "df['Churn'].value_counts()"
   ]
  },
  {
   "cell_type": "code",
   "execution_count": 5,
   "id": "6a17d5bd-6b80-42c3-bfcb-84a02dde379d",
   "metadata": {},
   "outputs": [
    {
     "data": {
      "text/plain": [
       "Index(['AddMoves', 'BuyMoreMoves', 'Churn', 'DoubleMana', 'EndType',\n",
       "       'ExtraMoves', 'Level', 'LevelType', 'LevelVersion', 'MaxLevel',\n",
       "       'NextCar', 'Platform', 'PlayTime', 'RollingLosses', 'Scores',\n",
       "       'ServerTime', 'StartMoves', 'SubLevel', 'UsedChangeCar', 'UsedCoins',\n",
       "       'UsedMoves', 'UserID', 'Variant', 'WatchedVideo'],\n",
       "      dtype='object')"
      ]
     },
     "execution_count": 5,
     "metadata": {},
     "output_type": "execute_result"
    }
   ],
   "source": [
    "df.columns"
   ]
  },
  {
   "cell_type": "code",
   "execution_count": 6,
   "id": "9b656dd7-1a8f-4d3b-84a7-819671621b92",
   "metadata": {},
   "outputs": [
    {
     "data": {
      "text/plain": [
       "24"
      ]
     },
     "execution_count": 6,
     "metadata": {},
     "output_type": "execute_result"
    }
   ],
   "source": [
    "len(df.columns)"
   ]
  },
  {
   "cell_type": "code",
   "execution_count": 7,
   "id": "c15fd431",
   "metadata": {},
   "outputs": [
    {
     "name": "stdout",
     "output_type": "stream",
     "text": [
      "<class 'pandas.core.frame.DataFrame'>\n",
      "RangeIndex: 789879 entries, 0 to 789878\n",
      "Data columns (total 24 columns):\n",
      " #   Column         Non-Null Count   Dtype  \n",
      "---  ------         --------------   -----  \n",
      " 0   AddMoves       789879 non-null  int64  \n",
      " 1   BuyMoreMoves   789879 non-null  int64  \n",
      " 2   Churn          789879 non-null  int64  \n",
      " 3   DoubleMana     789879 non-null  int64  \n",
      " 4   EndType        789879 non-null  object \n",
      " 5   ExtraMoves     789879 non-null  int64  \n",
      " 6   Level          789879 non-null  int64  \n",
      " 7   LevelType      789879 non-null  object \n",
      " 8   LevelVersion   789879 non-null  int64  \n",
      " 9   MaxLevel       789879 non-null  int64  \n",
      " 10  NextCar        789879 non-null  int64  \n",
      " 11  Platform       789879 non-null  object \n",
      " 12  PlayTime       789879 non-null  int64  \n",
      " 13  RollingLosses  789879 non-null  float64\n",
      " 14  Scores         789879 non-null  int64  \n",
      " 15  ServerTime     789879 non-null  object \n",
      " 16  StartMoves     789879 non-null  int64  \n",
      " 17  SubLevel       789879 non-null  int64  \n",
      " 18  UsedChangeCar  789879 non-null  int64  \n",
      " 19  UsedCoins      789879 non-null  int64  \n",
      " 20  UsedMoves      789879 non-null  int64  \n",
      " 21  UserID         789879 non-null  object \n",
      " 22  Variant        789879 non-null  int64  \n",
      " 23  WatchedVideo   789879 non-null  int64  \n",
      "dtypes: float64(1), int64(18), object(5)\n",
      "memory usage: 144.6+ MB\n"
     ]
    }
   ],
   "source": [
    "df.info()"
   ]
  },
  {
   "cell_type": "code",
   "execution_count": 8,
   "id": "ec5a949b",
   "metadata": {},
   "outputs": [],
   "source": [
    "# Convert from string to datetime format\n",
    "df[\"ServerTime\"] = pd.to_datetime(df[\"ServerTime\"])\n",
    "df[\"ServerTime\"] = pd.to_datetime(df[\"ServerTime\"], format=\"%Y-%m-%d\")"
   ]
  },
  {
   "cell_type": "code",
   "execution_count": 9,
   "id": "80f5ffcb",
   "metadata": {},
   "outputs": [
    {
     "name": "stdout",
     "output_type": "stream",
     "text": [
      "<class 'pandas.core.frame.DataFrame'>\n",
      "RangeIndex: 789879 entries, 0 to 789878\n",
      "Data columns (total 24 columns):\n",
      " #   Column         Non-Null Count   Dtype         \n",
      "---  ------         --------------   -----         \n",
      " 0   AddMoves       789879 non-null  int64         \n",
      " 1   BuyMoreMoves   789879 non-null  int64         \n",
      " 2   Churn          789879 non-null  int64         \n",
      " 3   DoubleMana     789879 non-null  int64         \n",
      " 4   EndType        789879 non-null  object        \n",
      " 5   ExtraMoves     789879 non-null  int64         \n",
      " 6   Level          789879 non-null  int64         \n",
      " 7   LevelType      789879 non-null  object        \n",
      " 8   LevelVersion   789879 non-null  int64         \n",
      " 9   MaxLevel       789879 non-null  int64         \n",
      " 10  NextCar        789879 non-null  int64         \n",
      " 11  Platform       789879 non-null  object        \n",
      " 12  PlayTime       789879 non-null  int64         \n",
      " 13  RollingLosses  789879 non-null  float64       \n",
      " 14  Scores         789879 non-null  int64         \n",
      " 15  ServerTime     789879 non-null  datetime64[ns]\n",
      " 16  StartMoves     789879 non-null  int64         \n",
      " 17  SubLevel       789879 non-null  int64         \n",
      " 18  UsedChangeCar  789879 non-null  int64         \n",
      " 19  UsedCoins      789879 non-null  int64         \n",
      " 20  UsedMoves      789879 non-null  int64         \n",
      " 21  UserID         789879 non-null  object        \n",
      " 22  Variant        789879 non-null  int64         \n",
      " 23  WatchedVideo   789879 non-null  int64         \n",
      "dtypes: datetime64[ns](1), float64(1), int64(18), object(4)\n",
      "memory usage: 144.6+ MB\n"
     ]
    }
   ],
   "source": [
    "df.info()"
   ]
  },
  {
   "cell_type": "code",
   "execution_count": 10,
   "id": "6f149fdf",
   "metadata": {},
   "outputs": [
    {
     "data": {
      "text/html": [
       "<div>\n",
       "<style scoped>\n",
       "    .dataframe tbody tr th:only-of-type {\n",
       "        vertical-align: middle;\n",
       "    }\n",
       "\n",
       "    .dataframe tbody tr th {\n",
       "        vertical-align: top;\n",
       "    }\n",
       "\n",
       "    .dataframe thead th {\n",
       "        text-align: right;\n",
       "    }\n",
       "</style>\n",
       "<table border=\"1\" class=\"dataframe\">\n",
       "  <thead>\n",
       "    <tr style=\"text-align: right;\">\n",
       "      <th></th>\n",
       "      <th>AddMoves</th>\n",
       "      <th>BuyMoreMoves</th>\n",
       "      <th>Churn</th>\n",
       "      <th>DoubleMana</th>\n",
       "      <th>EndType</th>\n",
       "      <th>ExtraMoves</th>\n",
       "      <th>Level</th>\n",
       "      <th>LevelType</th>\n",
       "      <th>LevelVersion</th>\n",
       "      <th>MaxLevel</th>\n",
       "      <th>...</th>\n",
       "      <th>Scores</th>\n",
       "      <th>ServerTime</th>\n",
       "      <th>StartMoves</th>\n",
       "      <th>SubLevel</th>\n",
       "      <th>UsedChangeCar</th>\n",
       "      <th>UsedCoins</th>\n",
       "      <th>UsedMoves</th>\n",
       "      <th>UserID</th>\n",
       "      <th>Variant</th>\n",
       "      <th>WatchedVideo</th>\n",
       "    </tr>\n",
       "  </thead>\n",
       "  <tbody>\n",
       "    <tr>\n",
       "      <th>0</th>\n",
       "      <td>0</td>\n",
       "      <td>0</td>\n",
       "      <td>0</td>\n",
       "      <td>0</td>\n",
       "      <td>Lose</td>\n",
       "      <td>0</td>\n",
       "      <td>80</td>\n",
       "      <td>Saga</td>\n",
       "      <td>6</td>\n",
       "      <td>80</td>\n",
       "      <td>...</td>\n",
       "      <td>2300</td>\n",
       "      <td>2019-01-01 00:00:08</td>\n",
       "      <td>22</td>\n",
       "      <td>50</td>\n",
       "      <td>0</td>\n",
       "      <td>0</td>\n",
       "      <td>22</td>\n",
       "      <td>0UAqFzWsDK4FrUMp48Y3</td>\n",
       "      <td>0</td>\n",
       "      <td>0</td>\n",
       "    </tr>\n",
       "    <tr>\n",
       "      <th>1</th>\n",
       "      <td>0</td>\n",
       "      <td>0</td>\n",
       "      <td>0</td>\n",
       "      <td>0</td>\n",
       "      <td>Lose</td>\n",
       "      <td>0</td>\n",
       "      <td>275</td>\n",
       "      <td>Saga</td>\n",
       "      <td>8</td>\n",
       "      <td>275</td>\n",
       "      <td>...</td>\n",
       "      <td>2865</td>\n",
       "      <td>2019-01-01 00:00:14</td>\n",
       "      <td>13</td>\n",
       "      <td>50</td>\n",
       "      <td>0</td>\n",
       "      <td>0</td>\n",
       "      <td>13</td>\n",
       "      <td>tT3QDgAL47D1qXIaSyZP</td>\n",
       "      <td>0</td>\n",
       "      <td>0</td>\n",
       "    </tr>\n",
       "    <tr>\n",
       "      <th>2</th>\n",
       "      <td>0</td>\n",
       "      <td>1</td>\n",
       "      <td>0</td>\n",
       "      <td>0</td>\n",
       "      <td>Win</td>\n",
       "      <td>5</td>\n",
       "      <td>4226</td>\n",
       "      <td>Saga</td>\n",
       "      <td>0</td>\n",
       "      <td>4226</td>\n",
       "      <td>...</td>\n",
       "      <td>4560</td>\n",
       "      <td>2019-01-01 00:00:16</td>\n",
       "      <td>21</td>\n",
       "      <td>0</td>\n",
       "      <td>0</td>\n",
       "      <td>27</td>\n",
       "      <td>26</td>\n",
       "      <td>aE1pu1lJo7XBetF5gIRH</td>\n",
       "      <td>0</td>\n",
       "      <td>0</td>\n",
       "    </tr>\n",
       "    <tr>\n",
       "      <th>3</th>\n",
       "      <td>0</td>\n",
       "      <td>0</td>\n",
       "      <td>0</td>\n",
       "      <td>0</td>\n",
       "      <td>Lose</td>\n",
       "      <td>0</td>\n",
       "      <td>131</td>\n",
       "      <td>Saga</td>\n",
       "      <td>0</td>\n",
       "      <td>131</td>\n",
       "      <td>...</td>\n",
       "      <td>2970</td>\n",
       "      <td>2019-01-01 00:00:27</td>\n",
       "      <td>13</td>\n",
       "      <td>50</td>\n",
       "      <td>0</td>\n",
       "      <td>0</td>\n",
       "      <td>13</td>\n",
       "      <td>YH7LKBKxJsllLODfU250</td>\n",
       "      <td>0</td>\n",
       "      <td>0</td>\n",
       "    </tr>\n",
       "    <tr>\n",
       "      <th>4</th>\n",
       "      <td>0</td>\n",
       "      <td>0</td>\n",
       "      <td>0</td>\n",
       "      <td>0</td>\n",
       "      <td>Lose</td>\n",
       "      <td>0</td>\n",
       "      <td>131</td>\n",
       "      <td>Saga</td>\n",
       "      <td>0</td>\n",
       "      <td>131</td>\n",
       "      <td>...</td>\n",
       "      <td>2180</td>\n",
       "      <td>2019-01-01 00:00:29</td>\n",
       "      <td>17</td>\n",
       "      <td>50</td>\n",
       "      <td>0</td>\n",
       "      <td>0</td>\n",
       "      <td>17</td>\n",
       "      <td>35HyRrY03K6JBO94XfLE</td>\n",
       "      <td>0</td>\n",
       "      <td>0</td>\n",
       "    </tr>\n",
       "  </tbody>\n",
       "</table>\n",
       "<p>5 rows × 24 columns</p>\n",
       "</div>"
      ],
      "text/plain": [
       "   AddMoves  BuyMoreMoves  Churn  DoubleMana EndType  ExtraMoves  Level  \\\n",
       "0         0             0      0           0    Lose           0     80   \n",
       "1         0             0      0           0    Lose           0    275   \n",
       "2         0             1      0           0     Win           5   4226   \n",
       "3         0             0      0           0    Lose           0    131   \n",
       "4         0             0      0           0    Lose           0    131   \n",
       "\n",
       "  LevelType  LevelVersion  MaxLevel  ...  Scores          ServerTime  \\\n",
       "0      Saga             6        80  ...    2300 2019-01-01 00:00:08   \n",
       "1      Saga             8       275  ...    2865 2019-01-01 00:00:14   \n",
       "2      Saga             0      4226  ...    4560 2019-01-01 00:00:16   \n",
       "3      Saga             0       131  ...    2970 2019-01-01 00:00:27   \n",
       "4      Saga             0       131  ...    2180 2019-01-01 00:00:29   \n",
       "\n",
       "   StartMoves  SubLevel  UsedChangeCar UsedCoins  UsedMoves  \\\n",
       "0          22        50              0         0         22   \n",
       "1          13        50              0         0         13   \n",
       "2          21         0              0        27         26   \n",
       "3          13        50              0         0         13   \n",
       "4          17        50              0         0         17   \n",
       "\n",
       "                 UserID  Variant  WatchedVideo  \n",
       "0  0UAqFzWsDK4FrUMp48Y3        0             0  \n",
       "1  tT3QDgAL47D1qXIaSyZP        0             0  \n",
       "2  aE1pu1lJo7XBetF5gIRH        0             0  \n",
       "3  YH7LKBKxJsllLODfU250        0             0  \n",
       "4  35HyRrY03K6JBO94XfLE        0             0  \n",
       "\n",
       "[5 rows x 24 columns]"
      ]
     },
     "execution_count": 10,
     "metadata": {},
     "output_type": "execute_result"
    }
   ],
   "source": [
    "df.head()"
   ]
  },
  {
   "cell_type": "code",
   "execution_count": 11,
   "id": "0e3493ef-878c-4971-84c1-9979a9d852f6",
   "metadata": {},
   "outputs": [
    {
     "data": {
      "text/plain": [
       "AddMoves              1\n",
       "BuyMoreMoves          8\n",
       "Churn                 2\n",
       "DoubleMana            1\n",
       "EndType               4\n",
       "ExtraMoves            8\n",
       "Level              6240\n",
       "LevelType             1\n",
       "LevelVersion         35\n",
       "MaxLevel           6230\n",
       "NextCar               1\n",
       "Platform              1\n",
       "PlayTime           2562\n",
       "RollingLosses       618\n",
       "Scores             1779\n",
       "ServerTime       737698\n",
       "StartMoves           38\n",
       "SubLevel              4\n",
       "UsedChangeCar         1\n",
       "UsedCoins           131\n",
       "UsedMoves            60\n",
       "UserID             4770\n",
       "Variant               4\n",
       "WatchedVideo          1\n",
       "dtype: int64"
      ]
     },
     "execution_count": 11,
     "metadata": {},
     "output_type": "execute_result"
    }
   ],
   "source": [
    "df.nunique()"
   ]
  },
  {
   "cell_type": "code",
   "execution_count": 12,
   "id": "c35a78c0-f9bc-4076-8c60-de8a8b1721f1",
   "metadata": {},
   "outputs": [
    {
     "data": {
      "text/html": [
       "<div>\n",
       "<style scoped>\n",
       "    .dataframe tbody tr th:only-of-type {\n",
       "        vertical-align: middle;\n",
       "    }\n",
       "\n",
       "    .dataframe tbody tr th {\n",
       "        vertical-align: top;\n",
       "    }\n",
       "\n",
       "    .dataframe thead th {\n",
       "        text-align: right;\n",
       "    }\n",
       "</style>\n",
       "<table border=\"1\" class=\"dataframe\">\n",
       "  <thead>\n",
       "    <tr style=\"text-align: right;\">\n",
       "      <th></th>\n",
       "      <th>AddMoves</th>\n",
       "      <th>BuyMoreMoves</th>\n",
       "      <th>Churn</th>\n",
       "      <th>DoubleMana</th>\n",
       "      <th>ExtraMoves</th>\n",
       "      <th>Level</th>\n",
       "      <th>LevelVersion</th>\n",
       "      <th>MaxLevel</th>\n",
       "      <th>NextCar</th>\n",
       "      <th>PlayTime</th>\n",
       "      <th>RollingLosses</th>\n",
       "      <th>Scores</th>\n",
       "      <th>ServerTime</th>\n",
       "      <th>StartMoves</th>\n",
       "      <th>SubLevel</th>\n",
       "      <th>UsedChangeCar</th>\n",
       "      <th>UsedCoins</th>\n",
       "      <th>UsedMoves</th>\n",
       "      <th>Variant</th>\n",
       "      <th>WatchedVideo</th>\n",
       "    </tr>\n",
       "  </thead>\n",
       "  <tbody>\n",
       "    <tr>\n",
       "      <th>count</th>\n",
       "      <td>789879.0</td>\n",
       "      <td>789879.000000</td>\n",
       "      <td>789879.000000</td>\n",
       "      <td>789879.0</td>\n",
       "      <td>789879.000000</td>\n",
       "      <td>789879.000000</td>\n",
       "      <td>789879.000000</td>\n",
       "      <td>789879.000000</td>\n",
       "      <td>789879.0</td>\n",
       "      <td>789879.000000</td>\n",
       "      <td>789879.000000</td>\n",
       "      <td>789879.000000</td>\n",
       "      <td>789879</td>\n",
       "      <td>789879.000000</td>\n",
       "      <td>789879.000000</td>\n",
       "      <td>789879.0</td>\n",
       "      <td>789879.000000</td>\n",
       "      <td>789879.000000</td>\n",
       "      <td>789879.000000</td>\n",
       "      <td>789879.0</td>\n",
       "    </tr>\n",
       "    <tr>\n",
       "      <th>mean</th>\n",
       "      <td>0.0</td>\n",
       "      <td>0.045677</td>\n",
       "      <td>0.006806</td>\n",
       "      <td>0.0</td>\n",
       "      <td>0.228383</td>\n",
       "      <td>474.050791</td>\n",
       "      <td>6.794656</td>\n",
       "      <td>474.970051</td>\n",
       "      <td>0.0</td>\n",
       "      <td>127.187226</td>\n",
       "      <td>11.865531</td>\n",
       "      <td>3218.710037</td>\n",
       "      <td>2019-02-24 22:51:47.251590656</td>\n",
       "      <td>18.936312</td>\n",
       "      <td>36.856572</td>\n",
       "      <td>0.0</td>\n",
       "      <td>1.388419</td>\n",
       "      <td>18.024115</td>\n",
       "      <td>0.088360</td>\n",
       "      <td>0.0</td>\n",
       "    </tr>\n",
       "    <tr>\n",
       "      <th>min</th>\n",
       "      <td>0.0</td>\n",
       "      <td>0.000000</td>\n",
       "      <td>0.000000</td>\n",
       "      <td>0.0</td>\n",
       "      <td>0.000000</td>\n",
       "      <td>1.000000</td>\n",
       "      <td>0.000000</td>\n",
       "      <td>11.000000</td>\n",
       "      <td>0.0</td>\n",
       "      <td>2.000000</td>\n",
       "      <td>0.000000</td>\n",
       "      <td>0.000000</td>\n",
       "      <td>2019-01-01 00:00:08</td>\n",
       "      <td>5.000000</td>\n",
       "      <td>0.000000</td>\n",
       "      <td>0.0</td>\n",
       "      <td>0.000000</td>\n",
       "      <td>-5.000000</td>\n",
       "      <td>0.000000</td>\n",
       "      <td>0.0</td>\n",
       "    </tr>\n",
       "    <tr>\n",
       "      <th>25%</th>\n",
       "      <td>0.0</td>\n",
       "      <td>0.000000</td>\n",
       "      <td>0.000000</td>\n",
       "      <td>0.0</td>\n",
       "      <td>0.000000</td>\n",
       "      <td>66.000000</td>\n",
       "      <td>0.000000</td>\n",
       "      <td>67.000000</td>\n",
       "      <td>0.0</td>\n",
       "      <td>84.000000</td>\n",
       "      <td>1.000000</td>\n",
       "      <td>2445.000000</td>\n",
       "      <td>2019-01-26 16:49:30.500000</td>\n",
       "      <td>15.000000</td>\n",
       "      <td>0.000000</td>\n",
       "      <td>0.0</td>\n",
       "      <td>0.000000</td>\n",
       "      <td>14.000000</td>\n",
       "      <td>0.000000</td>\n",
       "      <td>0.0</td>\n",
       "    </tr>\n",
       "    <tr>\n",
       "      <th>50%</th>\n",
       "      <td>0.0</td>\n",
       "      <td>0.000000</td>\n",
       "      <td>0.000000</td>\n",
       "      <td>0.0</td>\n",
       "      <td>0.000000</td>\n",
       "      <td>142.000000</td>\n",
       "      <td>6.000000</td>\n",
       "      <td>142.000000</td>\n",
       "      <td>0.0</td>\n",
       "      <td>107.000000</td>\n",
       "      <td>3.000000</td>\n",
       "      <td>3050.000000</td>\n",
       "      <td>2019-02-24 23:16:40</td>\n",
       "      <td>19.000000</td>\n",
       "      <td>50.000000</td>\n",
       "      <td>0.0</td>\n",
       "      <td>0.000000</td>\n",
       "      <td>18.000000</td>\n",
       "      <td>0.000000</td>\n",
       "      <td>0.0</td>\n",
       "    </tr>\n",
       "    <tr>\n",
       "      <th>75%</th>\n",
       "      <td>0.0</td>\n",
       "      <td>0.000000</td>\n",
       "      <td>0.000000</td>\n",
       "      <td>0.0</td>\n",
       "      <td>0.000000</td>\n",
       "      <td>386.000000</td>\n",
       "      <td>10.000000</td>\n",
       "      <td>387.000000</td>\n",
       "      <td>0.0</td>\n",
       "      <td>137.000000</td>\n",
       "      <td>10.000000</td>\n",
       "      <td>3870.000000</td>\n",
       "      <td>2019-03-23 01:28:24.500000</td>\n",
       "      <td>22.000000</td>\n",
       "      <td>50.000000</td>\n",
       "      <td>0.0</td>\n",
       "      <td>0.000000</td>\n",
       "      <td>22.000000</td>\n",
       "      <td>0.000000</td>\n",
       "      <td>0.0</td>\n",
       "    </tr>\n",
       "    <tr>\n",
       "      <th>max</th>\n",
       "      <td>0.0</td>\n",
       "      <td>7.000000</td>\n",
       "      <td>1.000000</td>\n",
       "      <td>0.0</td>\n",
       "      <td>35.000000</td>\n",
       "      <td>6240.000000</td>\n",
       "      <td>34.000000</td>\n",
       "      <td>6240.000000</td>\n",
       "      <td>0.0</td>\n",
       "      <td>88938.000000</td>\n",
       "      <td>617.000000</td>\n",
       "      <td>11300.000000</td>\n",
       "      <td>2019-04-30 23:59:53</td>\n",
       "      <td>42.000000</td>\n",
       "      <td>50.000000</td>\n",
       "      <td>0.0</td>\n",
       "      <td>238.000000</td>\n",
       "      <td>59.000000</td>\n",
       "      <td>3.000000</td>\n",
       "      <td>0.0</td>\n",
       "    </tr>\n",
       "    <tr>\n",
       "      <th>std</th>\n",
       "      <td>0.0</td>\n",
       "      <td>0.240063</td>\n",
       "      <td>0.082218</td>\n",
       "      <td>0.0</td>\n",
       "      <td>1.200317</td>\n",
       "      <td>931.899420</td>\n",
       "      <td>6.546539</td>\n",
       "      <td>931.875899</td>\n",
       "      <td>0.0</td>\n",
       "      <td>291.939344</td>\n",
       "      <td>29.015963</td>\n",
       "      <td>1134.421662</td>\n",
       "      <td>NaN</td>\n",
       "      <td>5.250793</td>\n",
       "      <td>22.009010</td>\n",
       "      <td>0.0</td>\n",
       "      <td>5.534455</td>\n",
       "      <td>6.094208</td>\n",
       "      <td>0.328264</td>\n",
       "      <td>0.0</td>\n",
       "    </tr>\n",
       "  </tbody>\n",
       "</table>\n",
       "</div>"
      ],
      "text/plain": [
       "       AddMoves   BuyMoreMoves          Churn  DoubleMana     ExtraMoves  \\\n",
       "count  789879.0  789879.000000  789879.000000    789879.0  789879.000000   \n",
       "mean        0.0       0.045677       0.006806         0.0       0.228383   \n",
       "min         0.0       0.000000       0.000000         0.0       0.000000   \n",
       "25%         0.0       0.000000       0.000000         0.0       0.000000   \n",
       "50%         0.0       0.000000       0.000000         0.0       0.000000   \n",
       "75%         0.0       0.000000       0.000000         0.0       0.000000   \n",
       "max         0.0       7.000000       1.000000         0.0      35.000000   \n",
       "std         0.0       0.240063       0.082218         0.0       1.200317   \n",
       "\n",
       "               Level   LevelVersion       MaxLevel   NextCar       PlayTime  \\\n",
       "count  789879.000000  789879.000000  789879.000000  789879.0  789879.000000   \n",
       "mean      474.050791       6.794656     474.970051       0.0     127.187226   \n",
       "min         1.000000       0.000000      11.000000       0.0       2.000000   \n",
       "25%        66.000000       0.000000      67.000000       0.0      84.000000   \n",
       "50%       142.000000       6.000000     142.000000       0.0     107.000000   \n",
       "75%       386.000000      10.000000     387.000000       0.0     137.000000   \n",
       "max      6240.000000      34.000000    6240.000000       0.0   88938.000000   \n",
       "std       931.899420       6.546539     931.875899       0.0     291.939344   \n",
       "\n",
       "       RollingLosses         Scores                     ServerTime  \\\n",
       "count  789879.000000  789879.000000                         789879   \n",
       "mean       11.865531    3218.710037  2019-02-24 22:51:47.251590656   \n",
       "min         0.000000       0.000000            2019-01-01 00:00:08   \n",
       "25%         1.000000    2445.000000     2019-01-26 16:49:30.500000   \n",
       "50%         3.000000    3050.000000            2019-02-24 23:16:40   \n",
       "75%        10.000000    3870.000000     2019-03-23 01:28:24.500000   \n",
       "max       617.000000   11300.000000            2019-04-30 23:59:53   \n",
       "std        29.015963    1134.421662                            NaN   \n",
       "\n",
       "          StartMoves       SubLevel  UsedChangeCar      UsedCoins  \\\n",
       "count  789879.000000  789879.000000       789879.0  789879.000000   \n",
       "mean       18.936312      36.856572            0.0       1.388419   \n",
       "min         5.000000       0.000000            0.0       0.000000   \n",
       "25%        15.000000       0.000000            0.0       0.000000   \n",
       "50%        19.000000      50.000000            0.0       0.000000   \n",
       "75%        22.000000      50.000000            0.0       0.000000   \n",
       "max        42.000000      50.000000            0.0     238.000000   \n",
       "std         5.250793      22.009010            0.0       5.534455   \n",
       "\n",
       "           UsedMoves        Variant  WatchedVideo  \n",
       "count  789879.000000  789879.000000      789879.0  \n",
       "mean       18.024115       0.088360           0.0  \n",
       "min        -5.000000       0.000000           0.0  \n",
       "25%        14.000000       0.000000           0.0  \n",
       "50%        18.000000       0.000000           0.0  \n",
       "75%        22.000000       0.000000           0.0  \n",
       "max        59.000000       3.000000           0.0  \n",
       "std         6.094208       0.328264           0.0  "
      ]
     },
     "execution_count": 12,
     "metadata": {},
     "output_type": "execute_result"
    }
   ],
   "source": [
    "df.describe()"
   ]
  },
  {
   "cell_type": "code",
   "execution_count": 13,
   "id": "260946f3",
   "metadata": {},
   "outputs": [],
   "source": [
    "def generate_temporal_features(date):\n",
    "    \"\"\"Generate temporal features from timestamp string\"\"\"\n",
    "\n",
    "    date = pd.Timestamp(date)\n",
    "\n",
    "    return pd.Series(\n",
    "        [\n",
    "            date.year,\n",
    "            date.quarter,\n",
    "            date.is_quarter_start,\n",
    "            date.is_quarter_end,\n",
    "            date.month,\n",
    "            date.is_month_start,\n",
    "            date.is_month_end,\n",
    "            date.week,\n",
    "            date.day,\n",
    "            date.day_of_year,\n",
    "            date.day_of_week,\n",
    "            date.hour,\n",
    "            date.minute,\n",
    "        ],\n",
    "        index=[\n",
    "            \"year\",\n",
    "            \"quarter\",\n",
    "            \"quarter_start\",\n",
    "            \"quarter_end\",\n",
    "            \"month\",\n",
    "            \"month_start\",\n",
    "            \"month_end\",\n",
    "            \"week\",\n",
    "            \"day\",\n",
    "            \"day_in_year\",\n",
    "            \"day_of_week\",\n",
    "            \"hour\",\n",
    "            \"minute\",\n",
    "        ],\n",
    "    )"
   ]
  },
  {
   "cell_type": "code",
   "execution_count": 14,
   "id": "0766cf8b-3cca-4c03-b3ac-95e9bb28f8f5",
   "metadata": {},
   "outputs": [],
   "source": [
    "# Converted to datetime\n",
    "df[\"ServerTime\"] = pd.to_datetime(df[\"ServerTime\"])"
   ]
  },
  {
   "cell_type": "code",
   "execution_count": 15,
   "id": "c5a831c4-bdd8-4450-96d8-c729317187c1",
   "metadata": {},
   "outputs": [],
   "source": [
    "new_df = df[\"ServerTime\"].apply(generate_temporal_features)"
   ]
  },
  {
   "cell_type": "code",
   "execution_count": 16,
   "id": "36a6a562",
   "metadata": {},
   "outputs": [],
   "source": [
    "final_df = pd.concat([df, new_df], axis=1)"
   ]
  },
  {
   "cell_type": "code",
   "execution_count": 17,
   "id": "6c2c3369",
   "metadata": {},
   "outputs": [
    {
     "data": {
      "text/plain": [
       "AddMoves         0\n",
       "BuyMoreMoves     0\n",
       "Churn            0\n",
       "DoubleMana       0\n",
       "EndType          0\n",
       "ExtraMoves       0\n",
       "Level            0\n",
       "LevelType        0\n",
       "LevelVersion     0\n",
       "MaxLevel         0\n",
       "NextCar          0\n",
       "Platform         0\n",
       "PlayTime         0\n",
       "RollingLosses    0\n",
       "Scores           0\n",
       "ServerTime       0\n",
       "StartMoves       0\n",
       "SubLevel         0\n",
       "UsedChangeCar    0\n",
       "UsedCoins        0\n",
       "UsedMoves        0\n",
       "UserID           0\n",
       "Variant          0\n",
       "WatchedVideo     0\n",
       "year             0\n",
       "quarter          0\n",
       "quarter_start    0\n",
       "quarter_end      0\n",
       "month            0\n",
       "month_start      0\n",
       "month_end        0\n",
       "week             0\n",
       "day              0\n",
       "day_in_year      0\n",
       "day_of_week      0\n",
       "hour             0\n",
       "minute           0\n",
       "dtype: int64"
      ]
     },
     "execution_count": 17,
     "metadata": {},
     "output_type": "execute_result"
    }
   ],
   "source": [
    "final_df.isnull().sum()"
   ]
  },
  {
   "cell_type": "code",
   "execution_count": 18,
   "id": "fb66f85c",
   "metadata": {},
   "outputs": [
    {
     "data": {
      "text/plain": [
       "AddMoves              1\n",
       "BuyMoreMoves          8\n",
       "Churn                 2\n",
       "DoubleMana            1\n",
       "EndType               4\n",
       "ExtraMoves            8\n",
       "Level              6240\n",
       "LevelType             1\n",
       "LevelVersion         35\n",
       "MaxLevel           6230\n",
       "NextCar               1\n",
       "Platform              1\n",
       "PlayTime           2562\n",
       "RollingLosses       618\n",
       "Scores             1779\n",
       "ServerTime       737698\n",
       "StartMoves           38\n",
       "SubLevel              4\n",
       "UsedChangeCar         1\n",
       "UsedCoins           131\n",
       "UsedMoves            60\n",
       "UserID             4770\n",
       "Variant               4\n",
       "WatchedVideo          1\n",
       "year                  1\n",
       "quarter               2\n",
       "quarter_start         2\n",
       "quarter_end           1\n",
       "month                 4\n",
       "month_start           2\n",
       "month_end             2\n",
       "week                 18\n",
       "day                  30\n",
       "day_in_year         118\n",
       "day_of_week           7\n",
       "hour                 24\n",
       "minute               60\n",
       "dtype: int64"
      ]
     },
     "execution_count": 18,
     "metadata": {},
     "output_type": "execute_result"
    }
   ],
   "source": [
    "final_df.nunique()"
   ]
  },
  {
   "cell_type": "code",
   "execution_count": 19,
   "id": "8c2b388d-0eec-423b-80ab-5843e592fdd5",
   "metadata": {},
   "outputs": [],
   "source": [
    "## Remove irrelevant columns\n",
    "redundant_labels = final_df.nunique()[final_df.nunique() < 2].index\n",
    "final_df.drop(labels = redundant_labels, axis=1, inplace=True)"
   ]
  },
  {
   "cell_type": "code",
   "execution_count": 20,
   "id": "f38e7bdc",
   "metadata": {},
   "outputs": [],
   "source": [
    "y = final_df['Churn']\n",
    "X = final_df.drop(labels=[\"UserID\", \"Churn\", \"ServerTime\"], axis=1)"
   ]
  },
  {
   "cell_type": "code",
   "execution_count": 21,
   "id": "49e3d230",
   "metadata": {},
   "outputs": [
    {
     "name": "stdout",
     "output_type": "stream",
     "text": [
      "<class 'pandas.core.frame.DataFrame'>\n",
      "RangeIndex: 789879 entries, 0 to 789878\n",
      "Data columns (total 25 columns):\n",
      " #   Column         Non-Null Count   Dtype  \n",
      "---  ------         --------------   -----  \n",
      " 0   BuyMoreMoves   789879 non-null  int64  \n",
      " 1   EndType        789879 non-null  object \n",
      " 2   ExtraMoves     789879 non-null  int64  \n",
      " 3   Level          789879 non-null  int64  \n",
      " 4   LevelVersion   789879 non-null  int64  \n",
      " 5   MaxLevel       789879 non-null  int64  \n",
      " 6   PlayTime       789879 non-null  int64  \n",
      " 7   RollingLosses  789879 non-null  float64\n",
      " 8   Scores         789879 non-null  int64  \n",
      " 9   StartMoves     789879 non-null  int64  \n",
      " 10  SubLevel       789879 non-null  int64  \n",
      " 11  UsedCoins      789879 non-null  int64  \n",
      " 12  UsedMoves      789879 non-null  int64  \n",
      " 13  Variant        789879 non-null  int64  \n",
      " 14  quarter        789879 non-null  int64  \n",
      " 15  quarter_start  789879 non-null  bool   \n",
      " 16  month          789879 non-null  int64  \n",
      " 17  month_start    789879 non-null  bool   \n",
      " 18  month_end      789879 non-null  bool   \n",
      " 19  week           789879 non-null  int64  \n",
      " 20  day            789879 non-null  int64  \n",
      " 21  day_in_year    789879 non-null  int64  \n",
      " 22  day_of_week    789879 non-null  int64  \n",
      " 23  hour           789879 non-null  int64  \n",
      " 24  minute         789879 non-null  int64  \n",
      "dtypes: bool(3), float64(1), int64(20), object(1)\n",
      "memory usage: 134.8+ MB\n"
     ]
    }
   ],
   "source": [
    "X.info()"
   ]
  },
  {
   "cell_type": "code",
   "execution_count": 22,
   "id": "53529986",
   "metadata": {},
   "outputs": [
    {
     "data": {
      "text/plain": [
       "BuyMoreMoves        8\n",
       "EndType             4\n",
       "ExtraMoves          8\n",
       "Level            6240\n",
       "LevelVersion       35\n",
       "MaxLevel         6230\n",
       "PlayTime         2562\n",
       "RollingLosses     618\n",
       "Scores           1779\n",
       "StartMoves         38\n",
       "SubLevel            4\n",
       "UsedCoins         131\n",
       "UsedMoves          60\n",
       "Variant             4\n",
       "quarter             2\n",
       "quarter_start       2\n",
       "month               4\n",
       "month_start         2\n",
       "month_end           2\n",
       "week               18\n",
       "day                30\n",
       "day_in_year       118\n",
       "day_of_week         7\n",
       "hour               24\n",
       "minute             60\n",
       "dtype: int64"
      ]
     },
     "execution_count": 22,
     "metadata": {},
     "output_type": "execute_result"
    }
   ],
   "source": [
    "X.nunique()"
   ]
  },
  {
   "cell_type": "code",
   "execution_count": 23,
   "id": "095ae538",
   "metadata": {},
   "outputs": [],
   "source": [
    "from sklearn.preprocessing import LabelEncoder, OneHotEncoder, StandardScaler, RobustScaler\n",
    "from sklearn.compose import ColumnTransformer\n",
    "from sklearn.pipeline import FeatureUnion\n",
    "from sklearn.decomposition import PCA\n",
    "from sklearn.model_selection import train_test_split\n",
    "\n",
    "from imblearn.over_sampling import SMOTE\n",
    "from imblearn.combine import SMOTETomek\n",
    "from imblearn.under_sampling import TomekLinks\n",
    "from imblearn.pipeline import Pipeline"
   ]
  },
  {
   "cell_type": "code",
   "execution_count": 24,
   "id": "5439b6f5",
   "metadata": {},
   "outputs": [],
   "source": [
    "from sklearn import preprocessing"
   ]
  },
  {
   "cell_type": "code",
   "execution_count": 25,
   "id": "0333be4c",
   "metadata": {},
   "outputs": [],
   "source": [
    "from sklearn.linear_model import LogisticRegression"
   ]
  },
  {
   "cell_type": "code",
   "execution_count": 26,
   "id": "32270f93",
   "metadata": {},
   "outputs": [],
   "source": [
    "X_train, X_test, y_train, y_test = train_test_split(X, y, test_size=.3, stratify=y)"
   ]
  },
  {
   "cell_type": "code",
   "execution_count": 27,
   "id": "cc2a9d8d",
   "metadata": {},
   "outputs": [
    {
     "data": {
      "text/plain": [
       "(552915,)"
      ]
     },
     "execution_count": 27,
     "metadata": {},
     "output_type": "execute_result"
    }
   ],
   "source": [
    "y_train.shape"
   ]
  },
  {
   "cell_type": "code",
   "execution_count": 28,
   "id": "eed0bd83",
   "metadata": {},
   "outputs": [],
   "source": [
    "from sklearn.metrics import roc_auc_score, accuracy_score, precision_score, recall_score, f1_score, classification_report, confusion_matrix"
   ]
  },
  {
   "cell_type": "code",
   "execution_count": 29,
   "id": "5f607c49-0d8d-4bca-a631-3d472c7ff6e4",
   "metadata": {},
   "outputs": [],
   "source": [
    "def build_model(best_params):\n",
    "    # Combine One hot encoding and stadard scaler to form one higher level transformer\n",
    "    smote_params = {\n",
    "        k: v for (k, v) in best_params.items()\n",
    "        if k in [\"sampling_strategy\"]\n",
    "    }\n",
    "    log_params = {\n",
    "        k: v for (k, v) in best_params.items()\n",
    "        if k in [\"max_iter\", \"C\", \"class_weight\", \"penalty\", \"l1_ratio\", \"solver\"]\n",
    "    }\n",
    "    pca_params = {\n",
    "        k: v for (k, v) in best_params.items()\n",
    "        if k not in [\"max_iter\", \"C\", \"class_weight\", \"penalty\", \"l1_ratio\", \"solver\", \"sampling_strategy\"]\n",
    "    }\n",
    "    \n",
    "    first_transformer = ColumnTransformer(\n",
    "        transformers = [\n",
    "            # Transformer name, transformer object, column index the transformer will work on\n",
    "            (\"endTypeEncoder\", OneHotEncoder(), (1, 4, 13, 14, 15, 17, 18)),\n",
    "            (\"levelEncoder\", StandardScaler(), (3, 5, 6, 8)),\n",
    "        ],\n",
    "        remainder=\"passthrough\"\n",
    "    )\n",
    "    \n",
    "    second_transformer = ColumnTransformer(\n",
    "        transformers = [\n",
    "            # Transformer name, transformer object, column index the transformer will work on\n",
    "            (\"endTypeEncoder\", OneHotEncoder(), (1, 4, 13, 14, 15, 17, 18)),\n",
    "            (\"levelEncoder\", RobustScaler(), (3, 5, 6, 8)),\n",
    "        ],\n",
    "        remainder=\"passthrough\"\n",
    "    )\n",
    "\n",
    "\n",
    "    model = Pipeline(\n",
    "        steps = [\n",
    "            (\"transform\", FeatureUnion(transformer_list = [\n",
    "                (\"first\", first_transformer),\n",
    "                (\"second\", second_transformer)\n",
    "            ])), # Transform data\n",
    "            (\"reduce\", PCA(**pca_params)),\n",
    "            (\"tomek\", TomekLinks()),\n",
    "            (\"oversample\", SMOTETomek(**smote_params)), # Oversample; solve data imbalance\n",
    "            (\"model\", LogisticRegression(max_iter = 20_000, solver = \"saga\", **log_params))\n",
    "        ]\n",
    "    )\n",
    "    \n",
    "    return model"
   ]
  },
  {
   "cell_type": "code",
   "execution_count": 30,
   "id": "4ac493bb-0742-4448-ab07-6ee4ba278703",
   "metadata": {},
   "outputs": [],
   "source": [
    "try:\n",
    "    best_params = study.best_params\n",
    "except:\n",
    "    best_params = {'class_weight': 'balanced',\n",
    " 'C': 1.9656444719074713,\n",
    " 'penalty': 'l1',\n",
    " 'l1_ratio': 0.47294706547245646,\n",
    " 'sampling_strategy': 0.1042082926173874,\n",
    " 'n_components': 18,\n",
    " 'whiten': True,\n",
    " 'iterated_power': 1,\n",
    " 'svd_solver': 'full'}"
   ]
  },
  {
   "cell_type": "code",
   "execution_count": 31,
   "id": "8a3c578f",
   "metadata": {},
   "outputs": [
    {
     "name": "stderr",
     "output_type": "stream",
     "text": [
      "/home/harkhymadhe/mambaforge/lib/python3.10/site-packages/sklearn/linear_model/_logistic.py:1171: UserWarning: l1_ratio parameter is only used when penalty is 'elasticnet'. Got (penalty=l1)\n",
      "  warnings.warn(\n"
     ]
    },
    {
     "data": {
      "text/html": [
       "<style>#sk-container-id-1 {color: black;}#sk-container-id-1 pre{padding: 0;}#sk-container-id-1 div.sk-toggleable {background-color: white;}#sk-container-id-1 label.sk-toggleable__label {cursor: pointer;display: block;width: 100%;margin-bottom: 0;padding: 0.3em;box-sizing: border-box;text-align: center;}#sk-container-id-1 label.sk-toggleable__label-arrow:before {content: \"▸\";float: left;margin-right: 0.25em;color: #696969;}#sk-container-id-1 label.sk-toggleable__label-arrow:hover:before {color: black;}#sk-container-id-1 div.sk-estimator:hover label.sk-toggleable__label-arrow:before {color: black;}#sk-container-id-1 div.sk-toggleable__content {max-height: 0;max-width: 0;overflow: hidden;text-align: left;background-color: #f0f8ff;}#sk-container-id-1 div.sk-toggleable__content pre {margin: 0.2em;color: black;border-radius: 0.25em;background-color: #f0f8ff;}#sk-container-id-1 input.sk-toggleable__control:checked~div.sk-toggleable__content {max-height: 200px;max-width: 100%;overflow: auto;}#sk-container-id-1 input.sk-toggleable__control:checked~label.sk-toggleable__label-arrow:before {content: \"▾\";}#sk-container-id-1 div.sk-estimator input.sk-toggleable__control:checked~label.sk-toggleable__label {background-color: #d4ebff;}#sk-container-id-1 div.sk-label input.sk-toggleable__control:checked~label.sk-toggleable__label {background-color: #d4ebff;}#sk-container-id-1 input.sk-hidden--visually {border: 0;clip: rect(1px 1px 1px 1px);clip: rect(1px, 1px, 1px, 1px);height: 1px;margin: -1px;overflow: hidden;padding: 0;position: absolute;width: 1px;}#sk-container-id-1 div.sk-estimator {font-family: monospace;background-color: #f0f8ff;border: 1px dotted black;border-radius: 0.25em;box-sizing: border-box;margin-bottom: 0.5em;}#sk-container-id-1 div.sk-estimator:hover {background-color: #d4ebff;}#sk-container-id-1 div.sk-parallel-item::after {content: \"\";width: 100%;border-bottom: 1px solid gray;flex-grow: 1;}#sk-container-id-1 div.sk-label:hover label.sk-toggleable__label {background-color: #d4ebff;}#sk-container-id-1 div.sk-serial::before {content: \"\";position: absolute;border-left: 1px solid gray;box-sizing: border-box;top: 0;bottom: 0;left: 50%;z-index: 0;}#sk-container-id-1 div.sk-serial {display: flex;flex-direction: column;align-items: center;background-color: white;padding-right: 0.2em;padding-left: 0.2em;position: relative;}#sk-container-id-1 div.sk-item {position: relative;z-index: 1;}#sk-container-id-1 div.sk-parallel {display: flex;align-items: stretch;justify-content: center;background-color: white;position: relative;}#sk-container-id-1 div.sk-item::before, #sk-container-id-1 div.sk-parallel-item::before {content: \"\";position: absolute;border-left: 1px solid gray;box-sizing: border-box;top: 0;bottom: 0;left: 50%;z-index: -1;}#sk-container-id-1 div.sk-parallel-item {display: flex;flex-direction: column;z-index: 1;position: relative;background-color: white;}#sk-container-id-1 div.sk-parallel-item:first-child::after {align-self: flex-end;width: 50%;}#sk-container-id-1 div.sk-parallel-item:last-child::after {align-self: flex-start;width: 50%;}#sk-container-id-1 div.sk-parallel-item:only-child::after {width: 0;}#sk-container-id-1 div.sk-dashed-wrapped {border: 1px dashed gray;margin: 0 0.4em 0.5em 0.4em;box-sizing: border-box;padding-bottom: 0.4em;background-color: white;}#sk-container-id-1 div.sk-label label {font-family: monospace;font-weight: bold;display: inline-block;line-height: 1.2em;}#sk-container-id-1 div.sk-label-container {text-align: center;}#sk-container-id-1 div.sk-container {/* jupyter's `normalize.less` sets `[hidden] { display: none; }` but bootstrap.min.css set `[hidden] { display: none !important; }` so we also need the `!important` here to be able to override the default hidden behavior on the sphinx rendered scikit-learn.org. See: https://github.com/scikit-learn/scikit-learn/issues/21755 */display: inline-block !important;position: relative;}#sk-container-id-1 div.sk-text-repr-fallback {display: none;}</style><div id=\"sk-container-id-1\" class=\"sk-top-container\"><div class=\"sk-text-repr-fallback\"><pre>Pipeline(steps=[(&#x27;transform&#x27;,\n",
       "                 FeatureUnion(transformer_list=[(&#x27;first&#x27;,\n",
       "                                                 ColumnTransformer(remainder=&#x27;passthrough&#x27;,\n",
       "                                                                   transformers=[(&#x27;endTypeEncoder&#x27;,\n",
       "                                                                                  OneHotEncoder(),\n",
       "                                                                                  (1,\n",
       "                                                                                   4,\n",
       "                                                                                   13,\n",
       "                                                                                   14,\n",
       "                                                                                   15,\n",
       "                                                                                   17,\n",
       "                                                                                   18)),\n",
       "                                                                                 (&#x27;levelEncoder&#x27;,\n",
       "                                                                                  StandardScaler(),\n",
       "                                                                                  (3,\n",
       "                                                                                   5,\n",
       "                                                                                   6,\n",
       "                                                                                   8))])),\n",
       "                                                (&#x27;second&#x27;,\n",
       "                                                 ColumnTransformer(remainder=&#x27;passthrough&#x27;,\n",
       "                                                                   transformers=[(&#x27;endTypeEncoder&#x27;,\n",
       "                                                                                  OneHotEncoder(),\n",
       "                                                                                  (1,\n",
       "                                                                                   4,\n",
       "                                                                                   13,\n",
       "                                                                                   14,\n",
       "                                                                                   15,\n",
       "                                                                                   17,\n",
       "                                                                                   18)),\n",
       "                                                                                 (&#x27;levelEncoder&#x27;,\n",
       "                                                                                  RobustScaler(),\n",
       "                                                                                  (3,\n",
       "                                                                                   5,\n",
       "                                                                                   6,\n",
       "                                                                                   8))]))])),\n",
       "                (&#x27;reduce&#x27;,\n",
       "                 PCA(iterated_power=1, n_components=18, svd_solver=&#x27;full&#x27;,\n",
       "                     whiten=True)),\n",
       "                (&#x27;tomek&#x27;, TomekLinks()),\n",
       "                (&#x27;oversample&#x27;,\n",
       "                 SMOTETomek(sampling_strategy=0.1042082926173874)),\n",
       "                (&#x27;model&#x27;,\n",
       "                 LogisticRegression(C=1.9656444719074713,\n",
       "                                    class_weight=&#x27;balanced&#x27;,\n",
       "                                    l1_ratio=0.47294706547245646,\n",
       "                                    max_iter=20000, penalty=&#x27;l1&#x27;,\n",
       "                                    solver=&#x27;saga&#x27;))])</pre><b>In a Jupyter environment, please rerun this cell to show the HTML representation or trust the notebook. <br />On GitHub, the HTML representation is unable to render, please try loading this page with nbviewer.org.</b></div><div class=\"sk-container\" hidden><div class=\"sk-item sk-dashed-wrapped\"><div class=\"sk-label-container\"><div class=\"sk-label sk-toggleable\"><input class=\"sk-toggleable__control sk-hidden--visually\" id=\"sk-estimator-id-1\" type=\"checkbox\" ><label for=\"sk-estimator-id-1\" class=\"sk-toggleable__label sk-toggleable__label-arrow\">Pipeline</label><div class=\"sk-toggleable__content\"><pre>Pipeline(steps=[(&#x27;transform&#x27;,\n",
       "                 FeatureUnion(transformer_list=[(&#x27;first&#x27;,\n",
       "                                                 ColumnTransformer(remainder=&#x27;passthrough&#x27;,\n",
       "                                                                   transformers=[(&#x27;endTypeEncoder&#x27;,\n",
       "                                                                                  OneHotEncoder(),\n",
       "                                                                                  (1,\n",
       "                                                                                   4,\n",
       "                                                                                   13,\n",
       "                                                                                   14,\n",
       "                                                                                   15,\n",
       "                                                                                   17,\n",
       "                                                                                   18)),\n",
       "                                                                                 (&#x27;levelEncoder&#x27;,\n",
       "                                                                                  StandardScaler(),\n",
       "                                                                                  (3,\n",
       "                                                                                   5,\n",
       "                                                                                   6,\n",
       "                                                                                   8))])),\n",
       "                                                (&#x27;second&#x27;,\n",
       "                                                 ColumnTransformer(remainder=&#x27;passthrough&#x27;,\n",
       "                                                                   transformers=[(&#x27;endTypeEncoder&#x27;,\n",
       "                                                                                  OneHotEncoder(),\n",
       "                                                                                  (1,\n",
       "                                                                                   4,\n",
       "                                                                                   13,\n",
       "                                                                                   14,\n",
       "                                                                                   15,\n",
       "                                                                                   17,\n",
       "                                                                                   18)),\n",
       "                                                                                 (&#x27;levelEncoder&#x27;,\n",
       "                                                                                  RobustScaler(),\n",
       "                                                                                  (3,\n",
       "                                                                                   5,\n",
       "                                                                                   6,\n",
       "                                                                                   8))]))])),\n",
       "                (&#x27;reduce&#x27;,\n",
       "                 PCA(iterated_power=1, n_components=18, svd_solver=&#x27;full&#x27;,\n",
       "                     whiten=True)),\n",
       "                (&#x27;tomek&#x27;, TomekLinks()),\n",
       "                (&#x27;oversample&#x27;,\n",
       "                 SMOTETomek(sampling_strategy=0.1042082926173874)),\n",
       "                (&#x27;model&#x27;,\n",
       "                 LogisticRegression(C=1.9656444719074713,\n",
       "                                    class_weight=&#x27;balanced&#x27;,\n",
       "                                    l1_ratio=0.47294706547245646,\n",
       "                                    max_iter=20000, penalty=&#x27;l1&#x27;,\n",
       "                                    solver=&#x27;saga&#x27;))])</pre></div></div></div><div class=\"sk-serial\"><div class=\"sk-item sk-dashed-wrapped\"><div class=\"sk-label-container\"><div class=\"sk-label sk-toggleable\"><input class=\"sk-toggleable__control sk-hidden--visually\" id=\"sk-estimator-id-2\" type=\"checkbox\" ><label for=\"sk-estimator-id-2\" class=\"sk-toggleable__label sk-toggleable__label-arrow\">transform: FeatureUnion</label><div class=\"sk-toggleable__content\"><pre>FeatureUnion(transformer_list=[(&#x27;first&#x27;,\n",
       "                                ColumnTransformer(remainder=&#x27;passthrough&#x27;,\n",
       "                                                  transformers=[(&#x27;endTypeEncoder&#x27;,\n",
       "                                                                 OneHotEncoder(),\n",
       "                                                                 (1, 4, 13, 14,\n",
       "                                                                  15, 17, 18)),\n",
       "                                                                (&#x27;levelEncoder&#x27;,\n",
       "                                                                 StandardScaler(),\n",
       "                                                                 (3, 5, 6,\n",
       "                                                                  8))])),\n",
       "                               (&#x27;second&#x27;,\n",
       "                                ColumnTransformer(remainder=&#x27;passthrough&#x27;,\n",
       "                                                  transformers=[(&#x27;endTypeEncoder&#x27;,\n",
       "                                                                 OneHotEncoder(),\n",
       "                                                                 (1, 4, 13, 14,\n",
       "                                                                  15, 17, 18)),\n",
       "                                                                (&#x27;levelEncoder&#x27;,\n",
       "                                                                 RobustScaler(),\n",
       "                                                                 (3, 5, 6,\n",
       "                                                                  8))]))])</pre></div></div></div><div class=\"sk-parallel\"><div class=\"sk-parallel-item\"><div class=\"sk-item\"><div class=\"sk-label-container\"><div class=\"sk-label sk-toggleable\"><label>first</label></div></div><div class=\"sk-serial\"><div class=\"sk-item sk-dashed-wrapped\"><div class=\"sk-parallel\"><div class=\"sk-parallel-item\"><div class=\"sk-item\"><div class=\"sk-label-container\"><div class=\"sk-label sk-toggleable\"><input class=\"sk-toggleable__control sk-hidden--visually\" id=\"sk-estimator-id-3\" type=\"checkbox\" ><label for=\"sk-estimator-id-3\" class=\"sk-toggleable__label sk-toggleable__label-arrow\">endTypeEncoder</label><div class=\"sk-toggleable__content\"><pre>(1, 4, 13, 14, 15, 17, 18)</pre></div></div></div><div class=\"sk-serial\"><div class=\"sk-item\"><div class=\"sk-estimator sk-toggleable\"><input class=\"sk-toggleable__control sk-hidden--visually\" id=\"sk-estimator-id-4\" type=\"checkbox\" ><label for=\"sk-estimator-id-4\" class=\"sk-toggleable__label sk-toggleable__label-arrow\">OneHotEncoder</label><div class=\"sk-toggleable__content\"><pre>OneHotEncoder()</pre></div></div></div></div></div></div><div class=\"sk-parallel-item\"><div class=\"sk-item\"><div class=\"sk-label-container\"><div class=\"sk-label sk-toggleable\"><input class=\"sk-toggleable__control sk-hidden--visually\" id=\"sk-estimator-id-5\" type=\"checkbox\" ><label for=\"sk-estimator-id-5\" class=\"sk-toggleable__label sk-toggleable__label-arrow\">levelEncoder</label><div class=\"sk-toggleable__content\"><pre>(3, 5, 6, 8)</pre></div></div></div><div class=\"sk-serial\"><div class=\"sk-item\"><div class=\"sk-estimator sk-toggleable\"><input class=\"sk-toggleable__control sk-hidden--visually\" id=\"sk-estimator-id-6\" type=\"checkbox\" ><label for=\"sk-estimator-id-6\" class=\"sk-toggleable__label sk-toggleable__label-arrow\">StandardScaler</label><div class=\"sk-toggleable__content\"><pre>StandardScaler()</pre></div></div></div></div></div></div><div class=\"sk-parallel-item\"><div class=\"sk-item\"><div class=\"sk-label-container\"><div class=\"sk-label sk-toggleable\"><input class=\"sk-toggleable__control sk-hidden--visually\" id=\"sk-estimator-id-7\" type=\"checkbox\" ><label for=\"sk-estimator-id-7\" class=\"sk-toggleable__label sk-toggleable__label-arrow\">remainder</label><div class=\"sk-toggleable__content\"><pre>[&#x27;BuyMoreMoves&#x27;, &#x27;ExtraMoves&#x27;, &#x27;RollingLosses&#x27;, &#x27;StartMoves&#x27;, &#x27;SubLevel&#x27;, &#x27;UsedCoins&#x27;, &#x27;UsedMoves&#x27;, &#x27;month&#x27;, &#x27;week&#x27;, &#x27;day&#x27;, &#x27;day_in_year&#x27;, &#x27;day_of_week&#x27;, &#x27;hour&#x27;, &#x27;minute&#x27;]</pre></div></div></div><div class=\"sk-serial\"><div class=\"sk-item\"><div class=\"sk-estimator sk-toggleable\"><input class=\"sk-toggleable__control sk-hidden--visually\" id=\"sk-estimator-id-8\" type=\"checkbox\" ><label for=\"sk-estimator-id-8\" class=\"sk-toggleable__label sk-toggleable__label-arrow\">passthrough</label><div class=\"sk-toggleable__content\"><pre>passthrough</pre></div></div></div></div></div></div></div></div></div></div></div><div class=\"sk-parallel-item\"><div class=\"sk-item\"><div class=\"sk-label-container\"><div class=\"sk-label sk-toggleable\"><label>second</label></div></div><div class=\"sk-serial\"><div class=\"sk-item sk-dashed-wrapped\"><div class=\"sk-parallel\"><div class=\"sk-parallel-item\"><div class=\"sk-item\"><div class=\"sk-label-container\"><div class=\"sk-label sk-toggleable\"><input class=\"sk-toggleable__control sk-hidden--visually\" id=\"sk-estimator-id-9\" type=\"checkbox\" ><label for=\"sk-estimator-id-9\" class=\"sk-toggleable__label sk-toggleable__label-arrow\">endTypeEncoder</label><div class=\"sk-toggleable__content\"><pre>(1, 4, 13, 14, 15, 17, 18)</pre></div></div></div><div class=\"sk-serial\"><div class=\"sk-item\"><div class=\"sk-estimator sk-toggleable\"><input class=\"sk-toggleable__control sk-hidden--visually\" id=\"sk-estimator-id-10\" type=\"checkbox\" ><label for=\"sk-estimator-id-10\" class=\"sk-toggleable__label sk-toggleable__label-arrow\">OneHotEncoder</label><div class=\"sk-toggleable__content\"><pre>OneHotEncoder()</pre></div></div></div></div></div></div><div class=\"sk-parallel-item\"><div class=\"sk-item\"><div class=\"sk-label-container\"><div class=\"sk-label sk-toggleable\"><input class=\"sk-toggleable__control sk-hidden--visually\" id=\"sk-estimator-id-11\" type=\"checkbox\" ><label for=\"sk-estimator-id-11\" class=\"sk-toggleable__label sk-toggleable__label-arrow\">levelEncoder</label><div class=\"sk-toggleable__content\"><pre>(3, 5, 6, 8)</pre></div></div></div><div class=\"sk-serial\"><div class=\"sk-item\"><div class=\"sk-estimator sk-toggleable\"><input class=\"sk-toggleable__control sk-hidden--visually\" id=\"sk-estimator-id-12\" type=\"checkbox\" ><label for=\"sk-estimator-id-12\" class=\"sk-toggleable__label sk-toggleable__label-arrow\">RobustScaler</label><div class=\"sk-toggleable__content\"><pre>RobustScaler()</pre></div></div></div></div></div></div><div class=\"sk-parallel-item\"><div class=\"sk-item\"><div class=\"sk-label-container\"><div class=\"sk-label sk-toggleable\"><input class=\"sk-toggleable__control sk-hidden--visually\" id=\"sk-estimator-id-13\" type=\"checkbox\" ><label for=\"sk-estimator-id-13\" class=\"sk-toggleable__label sk-toggleable__label-arrow\">remainder</label><div class=\"sk-toggleable__content\"><pre>[&#x27;BuyMoreMoves&#x27;, &#x27;ExtraMoves&#x27;, &#x27;RollingLosses&#x27;, &#x27;StartMoves&#x27;, &#x27;SubLevel&#x27;, &#x27;UsedCoins&#x27;, &#x27;UsedMoves&#x27;, &#x27;month&#x27;, &#x27;week&#x27;, &#x27;day&#x27;, &#x27;day_in_year&#x27;, &#x27;day_of_week&#x27;, &#x27;hour&#x27;, &#x27;minute&#x27;]</pre></div></div></div><div class=\"sk-serial\"><div class=\"sk-item\"><div class=\"sk-estimator sk-toggleable\"><input class=\"sk-toggleable__control sk-hidden--visually\" id=\"sk-estimator-id-14\" type=\"checkbox\" ><label for=\"sk-estimator-id-14\" class=\"sk-toggleable__label sk-toggleable__label-arrow\">passthrough</label><div class=\"sk-toggleable__content\"><pre>passthrough</pre></div></div></div></div></div></div></div></div></div></div></div></div></div><div class=\"sk-item\"><div class=\"sk-estimator sk-toggleable\"><input class=\"sk-toggleable__control sk-hidden--visually\" id=\"sk-estimator-id-15\" type=\"checkbox\" ><label for=\"sk-estimator-id-15\" class=\"sk-toggleable__label sk-toggleable__label-arrow\">PCA</label><div class=\"sk-toggleable__content\"><pre>PCA(iterated_power=1, n_components=18, svd_solver=&#x27;full&#x27;, whiten=True)</pre></div></div></div><div class=\"sk-item\"><div class=\"sk-estimator sk-toggleable\"><input class=\"sk-toggleable__control sk-hidden--visually\" id=\"sk-estimator-id-16\" type=\"checkbox\" ><label for=\"sk-estimator-id-16\" class=\"sk-toggleable__label sk-toggleable__label-arrow\">TomekLinks</label><div class=\"sk-toggleable__content\"><pre>TomekLinks()</pre></div></div></div><div class=\"sk-item\"><div class=\"sk-estimator sk-toggleable\"><input class=\"sk-toggleable__control sk-hidden--visually\" id=\"sk-estimator-id-17\" type=\"checkbox\" ><label for=\"sk-estimator-id-17\" class=\"sk-toggleable__label sk-toggleable__label-arrow\">SMOTETomek</label><div class=\"sk-toggleable__content\"><pre>SMOTETomek(sampling_strategy=0.1042082926173874)</pre></div></div></div><div class=\"sk-item\"><div class=\"sk-estimator sk-toggleable\"><input class=\"sk-toggleable__control sk-hidden--visually\" id=\"sk-estimator-id-18\" type=\"checkbox\" ><label for=\"sk-estimator-id-18\" class=\"sk-toggleable__label sk-toggleable__label-arrow\">LogisticRegression</label><div class=\"sk-toggleable__content\"><pre>LogisticRegression(C=1.9656444719074713, class_weight=&#x27;balanced&#x27;,\n",
       "                   l1_ratio=0.47294706547245646, max_iter=20000, penalty=&#x27;l1&#x27;,\n",
       "                   solver=&#x27;saga&#x27;)</pre></div></div></div></div></div></div></div>"
      ],
      "text/plain": [
       "Pipeline(steps=[('transform',\n",
       "                 FeatureUnion(transformer_list=[('first',\n",
       "                                                 ColumnTransformer(remainder='passthrough',\n",
       "                                                                   transformers=[('endTypeEncoder',\n",
       "                                                                                  OneHotEncoder(),\n",
       "                                                                                  (1,\n",
       "                                                                                   4,\n",
       "                                                                                   13,\n",
       "                                                                                   14,\n",
       "                                                                                   15,\n",
       "                                                                                   17,\n",
       "                                                                                   18)),\n",
       "                                                                                 ('levelEncoder',\n",
       "                                                                                  StandardScaler(),\n",
       "                                                                                  (3,\n",
       "                                                                                   5,\n",
       "                                                                                   6,\n",
       "                                                                                   8))])),\n",
       "                                                ('second',\n",
       "                                                 ColumnTransformer(remainder='passthrough',\n",
       "                                                                   transformers=[('endTypeEncoder',\n",
       "                                                                                  OneHotEncoder(),\n",
       "                                                                                  (1,\n",
       "                                                                                   4,\n",
       "                                                                                   13,\n",
       "                                                                                   14,\n",
       "                                                                                   15,\n",
       "                                                                                   17,\n",
       "                                                                                   18)),\n",
       "                                                                                 ('levelEncoder',\n",
       "                                                                                  RobustScaler(),\n",
       "                                                                                  (3,\n",
       "                                                                                   5,\n",
       "                                                                                   6,\n",
       "                                                                                   8))]))])),\n",
       "                ('reduce',\n",
       "                 PCA(iterated_power=1, n_components=18, svd_solver='full',\n",
       "                     whiten=True)),\n",
       "                ('tomek', TomekLinks()),\n",
       "                ('oversample',\n",
       "                 SMOTETomek(sampling_strategy=0.1042082926173874)),\n",
       "                ('model',\n",
       "                 LogisticRegression(C=1.9656444719074713,\n",
       "                                    class_weight='balanced',\n",
       "                                    l1_ratio=0.47294706547245646,\n",
       "                                    max_iter=20000, penalty='l1',\n",
       "                                    solver='saga'))])"
      ]
     },
     "execution_count": 31,
     "metadata": {},
     "output_type": "execute_result"
    }
   ],
   "source": [
    "# Fit on training data\n",
    "model = build_model(best_params)\n",
    "model.fit(X_train, y_train)"
   ]
  },
  {
   "cell_type": "code",
   "execution_count": 32,
   "id": "4fed825a",
   "metadata": {},
   "outputs": [
    {
     "data": {
      "text/plain": [
       "(1, 18)"
      ]
     },
     "execution_count": 32,
     "metadata": {},
     "output_type": "execute_result"
    }
   ],
   "source": [
    "model.named_steps[\"model\"].coef_.shape"
   ]
  },
  {
   "cell_type": "markdown",
   "id": "7c243c94-1a26-4e79-8b0f-bc39a21d96ad",
   "metadata": {},
   "source": [
    "---"
   ]
  },
  {
   "cell_type": "code",
   "execution_count": 33,
   "id": "46971c68-cb3e-4181-aeff-0e938b20355a",
   "metadata": {},
   "outputs": [
    {
     "data": {
      "text/plain": [
       "0.6571195824697562"
      ]
     },
     "execution_count": 33,
     "metadata": {},
     "output_type": "execute_result"
    }
   ],
   "source": [
    "### Train ROC AUC\n",
    "roc_auc_score(y_train, model.predict(X_train),)"
   ]
  },
  {
   "cell_type": "code",
   "execution_count": 34,
   "id": "566c3b09-7e26-4753-94a6-70b5cf3ed540",
   "metadata": {},
   "outputs": [
    {
     "data": {
      "text/plain": [
       "0.6507197742819202"
      ]
     },
     "execution_count": 34,
     "metadata": {},
     "output_type": "execute_result"
    }
   ],
   "source": [
    "### Test ROC AUC\n",
    "roc_auc_score(y_test, model.predict(X_test),)"
   ]
  },
  {
   "cell_type": "markdown",
   "id": "73a8032e-ab47-411d-9321-b1110c6ac258",
   "metadata": {},
   "source": [
    "---"
   ]
  },
  {
   "cell_type": "code",
   "execution_count": 35,
   "id": "5d7e54a6-fa95-4039-a511-f2874d260e42",
   "metadata": {},
   "outputs": [
    {
     "data": {
      "text/plain": [
       "0.5757919390864781"
      ]
     },
     "execution_count": 35,
     "metadata": {},
     "output_type": "execute_result"
    }
   ],
   "source": [
    "### Train accuracy\n",
    "accuracy_score(y_train, model.predict(X_train),)"
   ]
  },
  {
   "cell_type": "code",
   "execution_count": 36,
   "id": "3f08a944",
   "metadata": {},
   "outputs": [
    {
     "data": {
      "text/plain": [
       "0.575264597153998"
      ]
     },
     "execution_count": 36,
     "metadata": {},
     "output_type": "execute_result"
    }
   ],
   "source": [
    "### Test accuracy\n",
    "accuracy_score(y_test, model.predict(X_test),)"
   ]
  },
  {
   "cell_type": "code",
   "execution_count": 37,
   "id": "9cc82cc1",
   "metadata": {},
   "outputs": [
    {
     "data": {
      "text/plain": [
       "array([[135144, 100207],\n",
       "       [   440,   1173]])"
      ]
     },
     "execution_count": 37,
     "metadata": {},
     "output_type": "execute_result"
    }
   ],
   "source": [
    "confusion_matrix(y_test, model.predict(X_test))"
   ]
  },
  {
   "cell_type": "code",
   "execution_count": 38,
   "id": "6a26a695",
   "metadata": {},
   "outputs": [
    {
     "name": "stdout",
     "output_type": "stream",
     "text": [
      "              precision    recall  f1-score   support\n",
      "\n",
      "           0       1.00      0.57      0.73    235351\n",
      "           1       0.01      0.73      0.02      1613\n",
      "\n",
      "    accuracy                           0.58    236964\n",
      "   macro avg       0.50      0.65      0.38    236964\n",
      "weighted avg       0.99      0.58      0.72    236964\n",
      "\n"
     ]
    }
   ],
   "source": [
    "print(classification_report(y_test, model.predict(X_test)))"
   ]
  },
  {
   "cell_type": "code",
   "execution_count": 50,
   "id": "c98482a4-698d-4f8e-814a-4bc654ee92b6",
   "metadata": {},
   "outputs": [
    {
     "data": {
      "image/png": "[encoded data removed]",
      "text/plain": [
       "<Figure size 640x480 with 1 Axes>"
      ]
     },
     "metadata": {},
     "output_type": "display_data"
    }
   ],
   "source": [
    "# ROC Curve for test\n",
    "RocCurveDisplay.from_estimator(model, X = X_test, y = y_test)\n",
    "plt.savefig(\"ROC Curve for Log Reg.png\")\n",
    "plt.show()"
   ]
  },
  {
   "cell_type": "code",
   "execution_count": 40,
   "id": "1d7f9a34-1307-4fd8-88ac-1c01e3d5e4e7",
   "metadata": {},
   "outputs": [
    {
     "name": "stdout",
     "output_type": "stream",
     "text": [
      "Best Threshold=0.534446, G-Mean=0.656\n"
     ]
    }
   ],
   "source": [
    "from sklearn.metrics import roc_curve\n",
    "\n",
    "yhat = model.predict_proba(X_test)\n",
    "# keep probabilities for the positive outcome only\n",
    "yhat = yhat[:, 1]\n",
    "# calculate roc curves\n",
    "fpr, tpr, thresholds = roc_curve(y_test, yhat)\n",
    "# calculate the g-mean for each threshold\n",
    "gmeans = np.sqrt(tpr * (1-fpr))\n",
    "# locate the index of the largest g-mean\n",
    "ix = np.argmax(gmeans)\n",
    "print('Best Threshold=%f, G-Mean=%.3f' % (thresholds[ix], gmeans[ix]))"
   ]
  },
  {
   "cell_type": "code",
   "execution_count": 41,
   "id": "a78937dd-3cb1-4e5f-a3f6-d65fcfb8ab72",
   "metadata": {},
   "outputs": [
    {
     "name": "stdout",
     "output_type": "stream",
     "text": [
      "0.6562405926773899\n"
     ]
    }
   ],
   "source": [
    "# ROC AUC score at threshold\n",
    "\n",
    "t = thresholds[ix]\n",
    "yhat = (yhat >= t).astype(int)\n",
    "print(roc_auc_score(y_test, yhat))"
   ]
  },
  {
   "cell_type": "markdown",
   "id": "a928a4a8",
   "metadata": {},
   "source": [
    "### Report Outline\n",
    "\n",
    "1. Discuss the steps for any data project.\n",
    "    - Business Understanding\n",
    "    - Data Understanding\n",
    "    - Data Preparation\n",
    "    - Data Modelling\n",
    "    - Model validation\n",
    "    - Deployment\n",
    "<br>\n",
    "<br>\n",
    "2. Data Imbalance (Data + Learning Algorithm + Evaluation Metric =  ML Product)\n",
    "    - Data\n",
    "        - Data duplication or deduplication\n",
    "        - Oversampling (SMOTE, ADASYN etcetera)\n",
    "        - Undersampling (UnderMiss, NearMiss etc)\n",
    "        - Over-Undersampling\n",
    "    - Learning Algorithm (Cost-Sensitive Learning Algorithms)\n",
    "        - Log Reg\n",
    "        - SVMs\n",
    "        - Decison Trees (Random Forest etcetera)\n",
    "        - Make use `class_weight` parameter\n",
    "    - Evaluation Metric\n",
    "        - Precision\n",
    "        - AUC score\n",
    "        - Recall\n",
    "        - PR AUC curve"
   ]
  },
  {
   "cell_type": "markdown",
   "id": "b8c1a230",
   "metadata": {},
   "source": [
    "Has Cancer but Doctor says they dont -> Cost high, False Negative\n",
    "Has does not have Cancer but Doctor says they do -> Cost not as high, False Positive"
   ]
  },
  {
   "cell_type": "code",
   "execution_count": 42,
   "id": "0ffbbc28",
   "metadata": {},
   "outputs": [],
   "source": [
    "ohe = OneHotEncoder()"
   ]
  },
  {
   "cell_type": "code",
   "execution_count": 43,
   "id": "f7ae842c",
   "metadata": {},
   "outputs": [],
   "source": [
    "colors = pd.DataFrame([\"red\", \"green\", \"blue\", \"red\"])"
   ]
  },
  {
   "cell_type": "code",
   "execution_count": 44,
   "id": "fa75580b",
   "metadata": {},
   "outputs": [
    {
     "data": {
      "text/html": [
       "<div>\n",
       "<style scoped>\n",
       "    .dataframe tbody tr th:only-of-type {\n",
       "        vertical-align: middle;\n",
       "    }\n",
       "\n",
       "    .dataframe tbody tr th {\n",
       "        vertical-align: top;\n",
       "    }\n",
       "\n",
       "    .dataframe thead th {\n",
       "        text-align: right;\n",
       "    }\n",
       "</style>\n",
       "<table border=\"1\" class=\"dataframe\">\n",
       "  <thead>\n",
       "    <tr style=\"text-align: right;\">\n",
       "      <th></th>\n",
       "      <th>0</th>\n",
       "    </tr>\n",
       "  </thead>\n",
       "  <tbody>\n",
       "    <tr>\n",
       "      <th>0</th>\n",
       "      <td>red</td>\n",
       "    </tr>\n",
       "    <tr>\n",
       "      <th>1</th>\n",
       "      <td>green</td>\n",
       "    </tr>\n",
       "    <tr>\n",
       "      <th>2</th>\n",
       "      <td>blue</td>\n",
       "    </tr>\n",
       "    <tr>\n",
       "      <th>3</th>\n",
       "      <td>red</td>\n",
       "    </tr>\n",
       "  </tbody>\n",
       "</table>\n",
       "</div>"
      ],
      "text/plain": [
       "       0\n",
       "0    red\n",
       "1  green\n",
       "2   blue\n",
       "3    red"
      ]
     },
     "execution_count": 44,
     "metadata": {},
     "output_type": "execute_result"
    }
   ],
   "source": [
    "colors"
   ]
  },
  {
   "cell_type": "code",
   "execution_count": 45,
   "id": "ec84c25e",
   "metadata": {},
   "outputs": [
    {
     "data": {
      "text/html": [
       "<style>#sk-container-id-2 {color: black;}#sk-container-id-2 pre{padding: 0;}#sk-container-id-2 div.sk-toggleable {background-color: white;}#sk-container-id-2 label.sk-toggleable__label {cursor: pointer;display: block;width: 100%;margin-bottom: 0;padding: 0.3em;box-sizing: border-box;text-align: center;}#sk-container-id-2 label.sk-toggleable__label-arrow:before {content: \"▸\";float: left;margin-right: 0.25em;color: #696969;}#sk-container-id-2 label.sk-toggleable__label-arrow:hover:before {color: black;}#sk-container-id-2 div.sk-estimator:hover label.sk-toggleable__label-arrow:before {color: black;}#sk-container-id-2 div.sk-toggleable__content {max-height: 0;max-width: 0;overflow: hidden;text-align: left;background-color: #f0f8ff;}#sk-container-id-2 div.sk-toggleable__content pre {margin: 0.2em;color: black;border-radius: 0.25em;background-color: #f0f8ff;}#sk-container-id-2 input.sk-toggleable__control:checked~div.sk-toggleable__content {max-height: 200px;max-width: 100%;overflow: auto;}#sk-container-id-2 input.sk-toggleable__control:checked~label.sk-toggleable__label-arrow:before {content: \"▾\";}#sk-container-id-2 div.sk-estimator input.sk-toggleable__control:checked~label.sk-toggleable__label {background-color: #d4ebff;}#sk-container-id-2 div.sk-label input.sk-toggleable__control:checked~label.sk-toggleable__label {background-color: #d4ebff;}#sk-container-id-2 input.sk-hidden--visually {border: 0;clip: rect(1px 1px 1px 1px);clip: rect(1px, 1px, 1px, 1px);height: 1px;margin: -1px;overflow: hidden;padding: 0;position: absolute;width: 1px;}#sk-container-id-2 div.sk-estimator {font-family: monospace;background-color: #f0f8ff;border: 1px dotted black;border-radius: 0.25em;box-sizing: border-box;margin-bottom: 0.5em;}#sk-container-id-2 div.sk-estimator:hover {background-color: #d4ebff;}#sk-container-id-2 div.sk-parallel-item::after {content: \"\";width: 100%;border-bottom: 1px solid gray;flex-grow: 1;}#sk-container-id-2 div.sk-label:hover label.sk-toggleable__label {background-color: #d4ebff;}#sk-container-id-2 div.sk-serial::before {content: \"\";position: absolute;border-left: 1px solid gray;box-sizing: border-box;top: 0;bottom: 0;left: 50%;z-index: 0;}#sk-container-id-2 div.sk-serial {display: flex;flex-direction: column;align-items: center;background-color: white;padding-right: 0.2em;padding-left: 0.2em;position: relative;}#sk-container-id-2 div.sk-item {position: relative;z-index: 1;}#sk-container-id-2 div.sk-parallel {display: flex;align-items: stretch;justify-content: center;background-color: white;position: relative;}#sk-container-id-2 div.sk-item::before, #sk-container-id-2 div.sk-parallel-item::before {content: \"\";position: absolute;border-left: 1px solid gray;box-sizing: border-box;top: 0;bottom: 0;left: 50%;z-index: -1;}#sk-container-id-2 div.sk-parallel-item {display: flex;flex-direction: column;z-index: 1;position: relative;background-color: white;}#sk-container-id-2 div.sk-parallel-item:first-child::after {align-self: flex-end;width: 50%;}#sk-container-id-2 div.sk-parallel-item:last-child::after {align-self: flex-start;width: 50%;}#sk-container-id-2 div.sk-parallel-item:only-child::after {width: 0;}#sk-container-id-2 div.sk-dashed-wrapped {border: 1px dashed gray;margin: 0 0.4em 0.5em 0.4em;box-sizing: border-box;padding-bottom: 0.4em;background-color: white;}#sk-container-id-2 div.sk-label label {font-family: monospace;font-weight: bold;display: inline-block;line-height: 1.2em;}#sk-container-id-2 div.sk-label-container {text-align: center;}#sk-container-id-2 div.sk-container {/* jupyter's `normalize.less` sets `[hidden] { display: none; }` but bootstrap.min.css set `[hidden] { display: none !important; }` so we also need the `!important` here to be able to override the default hidden behavior on the sphinx rendered scikit-learn.org. See: https://github.com/scikit-learn/scikit-learn/issues/21755 */display: inline-block !important;position: relative;}#sk-container-id-2 div.sk-text-repr-fallback {display: none;}</style><div id=\"sk-container-id-2\" class=\"sk-top-container\"><div class=\"sk-text-repr-fallback\"><pre>OneHotEncoder()</pre><b>In a Jupyter environment, please rerun this cell to show the HTML representation or trust the notebook. <br />On GitHub, the HTML representation is unable to render, please try loading this page with nbviewer.org.</b></div><div class=\"sk-container\" hidden><div class=\"sk-item\"><div class=\"sk-estimator sk-toggleable\"><input class=\"sk-toggleable__control sk-hidden--visually\" id=\"sk-estimator-id-19\" type=\"checkbox\" checked><label for=\"sk-estimator-id-19\" class=\"sk-toggleable__label sk-toggleable__label-arrow\">OneHotEncoder</label><div class=\"sk-toggleable__content\"><pre>OneHotEncoder()</pre></div></div></div></div></div>"
      ],
      "text/plain": [
       "OneHotEncoder()"
      ]
     },
     "execution_count": 45,
     "metadata": {},
     "output_type": "execute_result"
    }
   ],
   "source": [
    "ohe.fit(colors)"
   ]
  },
  {
   "cell_type": "code",
   "execution_count": 46,
   "id": "5459f38d",
   "metadata": {},
   "outputs": [
    {
     "data": {
      "text/plain": [
       "matrix([[0., 0., 1.],\n",
       "        [0., 1., 0.],\n",
       "        [1., 0., 0.],\n",
       "        [0., 0., 1.]])"
      ]
     },
     "execution_count": 46,
     "metadata": {},
     "output_type": "execute_result"
    }
   ],
   "source": [
    "ohe.transform(colors).todense()"
   ]
  },
  {
   "cell_type": "code",
   "execution_count": 47,
   "id": "3705089d",
   "metadata": {},
   "outputs": [
    {
     "data": {
      "text/html": [
       "<div>\n",
       "<style scoped>\n",
       "    .dataframe tbody tr th:only-of-type {\n",
       "        vertical-align: middle;\n",
       "    }\n",
       "\n",
       "    .dataframe tbody tr th {\n",
       "        vertical-align: top;\n",
       "    }\n",
       "\n",
       "    .dataframe thead th {\n",
       "        text-align: right;\n",
       "    }\n",
       "</style>\n",
       "<table border=\"1\" class=\"dataframe\">\n",
       "  <thead>\n",
       "    <tr style=\"text-align: right;\">\n",
       "      <th></th>\n",
       "      <th>0</th>\n",
       "    </tr>\n",
       "  </thead>\n",
       "  <tbody>\n",
       "    <tr>\n",
       "      <th>0</th>\n",
       "      <td>red</td>\n",
       "    </tr>\n",
       "    <tr>\n",
       "      <th>1</th>\n",
       "      <td>green</td>\n",
       "    </tr>\n",
       "    <tr>\n",
       "      <th>2</th>\n",
       "      <td>blue</td>\n",
       "    </tr>\n",
       "    <tr>\n",
       "      <th>3</th>\n",
       "      <td>red</td>\n",
       "    </tr>\n",
       "  </tbody>\n",
       "</table>\n",
       "</div>"
      ],
      "text/plain": [
       "       0\n",
       "0    red\n",
       "1  green\n",
       "2   blue\n",
       "3    red"
      ]
     },
     "execution_count": 47,
     "metadata": {},
     "output_type": "execute_result"
    }
   ],
   "source": [
    "colors"
   ]
  },
  {
   "cell_type": "code",
   "execution_count": 48,
   "id": "6c550df4",
   "metadata": {},
   "outputs": [
    {
     "data": {
      "text/plain": [
       "[array(['blue', 'green', 'red'], dtype=object)]"
      ]
     },
     "execution_count": 48,
     "metadata": {},
     "output_type": "execute_result"
    }
   ],
   "source": [
    "ohe.categories_"
   ]
  },
  {
   "cell_type": "markdown",
   "id": "1ca5df2f",
   "metadata": {},
   "source": [
    "### Next Steps\n",
    "\n",
    "1. Explore the possibility of generating more features from the `ServerTime` column.\n",
    "2. Explore more avenues for treating the data imbalance.\n",
    "3. Do some more EDA to better understand the data features and how they:\n",
    "    - relate to each other (e.g. correlation)\n",
    "    - how important they are for final prediction (e.g. feature importance)\n",
    "    - Remove columns with a cardinality of 1:\n",
    "        - `LevelType` column. It only contains one value (Saga).\n",
    "        - `AddMoves` column. It only contains one value (0).\n",
    "        - `DoubleMana` column. It only contains one value (0).\n",
    "        - `NextCar` column. It only contains one value (0)."
   ]
  },
  {
   "cell_type": "code",
   "execution_count": null,
   "id": "0374a1fb",
   "metadata": {},
   "outputs": [],
   "source": [
    "X_train.nunique()"
   ]
  },
  {
   "cell_type": "code",
   "execution_count": null,
   "id": "351dc92f",
   "metadata": {},
   "outputs": [],
   "source": []
  }
 ],
 "metadata": {
  "kernelspec": {
   "display_name": "Python 3 (ipykernel)",
   "language": "python",
   "name": "python3"
  },
  "language_info": {
   "codemirror_mode": {
    "name": "ipython",
    "version": 3
   },
   "file_extension": ".py",
   "mimetype": "text/x-python",
   "name": "python",
   "nbconvert_exporter": "python",
   "pygments_lexer": "ipython3",
   "version": "3.10.12"
  }
 },
 "nbformat": 4,
 "nbformat_minor": 5
}
